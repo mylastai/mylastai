{
  "nbformat": 4,
  "nbformat_minor": 0,
  "metadata": {
    "accelerator": "GPU",
    "colab": {
      "name": "mylastai_0008_project_handlevideo.ipynb",
      "provenance": [],
      "toc_visible": true,
      "include_colab_link": true
    },
    "kernelspec": {
      "name": "python3",
      "language": "python",
      "display_name": "Python 3"
    },
    "language_info": {
      "codemirror_mode": {
        "name": "ipython",
        "version": 3
      },
      "file_extension": ".py",
      "mimetype": "text/x-python",
      "name": "python",
      "nbconvert_exporter": "python",
      "pygments_lexer": "ipython3",
      "version": "3.7.7"
    }
  },
  "cells": [
    {
      "cell_type": "markdown",
      "metadata": {
        "id": "view-in-github",
        "colab_type": "text"
      },
      "source": [
        "<a href=\"https://colab.research.google.com/github/prometheusDE/mylastai/blob/master/mylastai_0008_project_handlevideo.ipynb\" target=\"_parent\"><img src=\"https://colab.research.google.com/assets/colab-badge.svg\" alt=\"Open In Colab\"/></a>"
      ]
    },
    {
      "cell_type": "code",
      "metadata": {
        "colab_type": "code",
        "id": "QwmHjU9fXhdO",
        "outputId": "26a1473c-d074-4d6c-83f6-ddbdd365dcc8",
        "pycharm": {
          "is_executing": false,
          "name": "#%% md\n"
        },
        "colab": {
          "base_uri": "https://localhost:8080/",
          "height": 34
        }
      },
      "source": [
        "from google.colab import drive\n",
        "drive.mount('/content/gdrive')"
      ],
      "execution_count": 1,
      "outputs": [
        {
          "output_type": "stream",
          "text": [
            "Drive already mounted at /content/gdrive; to attempt to forcibly remount, call drive.mount(\"/content/gdrive\", force_remount=True).\n"
          ],
          "name": "stdout"
        }
      ]
    },
    {
      "cell_type": "markdown",
      "metadata": {
        "colab_type": "text",
        "id": "VeK7NMm_AoEY"
      },
      "source": [
        "1. Install Tensorflow and Tensorflow Dataset Extension"
      ]
    },
    {
      "cell_type": "code",
      "metadata": {
        "colab_type": "code",
        "id": "Bw3dRkXEaSVi",
        "pycharm": {
          "name": "#%% md\n"
        },
        "colab": {}
      },
      "source": [
        "%%capture\n",
        "!pip install tensorflow==2.1.0\n",
        "!pip install matplotlib==3.2.1\n",
        "\n",
        "!nvcc --version\n",
        "\n",
        "!pip install --extra-index-url https://developer.download.nvidia.com/compute/redist/cuda/10.0 nvidia-dali\n",
        "!pip install --extra-index-url https://developer.download.nvidia.com/compute/redist/cuda/10.0 nvidia-dali-tf-plugin"
      ],
      "execution_count": 0,
      "outputs": []
    },
    {
      "cell_type": "markdown",
      "metadata": {
        "colab_type": "text",
        "id": "YM9uO93oBUo9"
      },
      "source": [
        "2. Handle Video File"
      ]
    },
    {
      "cell_type": "code",
      "metadata": {
        "colab_type": "code",
        "id": "UT_9ZqLjBY9P",
        "colab": {}
      },
      "source": [
        "from nvidia.dali.pipeline import Pipeline\n",
        "import nvidia.dali.ops as ops\n",
        "import nvidia.dali.types as types\n",
        "import numpy as np\n",
        "from timeit import default_timer as timer\n",
        "import numpy as np\n",
        "import matplotlib.pyplot as plt\n",
        "import os.path\n",
        "\n",
        "# https://docs.nvidia.com/deeplearning/sdk/dali-developer-guide/docs/examples/sequence_processing/video/video_reader_simple_example.html"
      ],
      "execution_count": 0,
      "outputs": []
    },
    {
      "cell_type": "code",
      "metadata": {
        "colab_type": "code",
        "id": "0GcxLCL8N1Fz",
        "colab": {}
      },
      "source": [
        "batch_size=10\n",
        "sequence_length=8\n",
        "initial_prefetch_size=16\n",
        "video_directory = '/content/gdrive/My Drive/CycleAI/Compressed/480p/20200308'\n",
        "# video_directory = '/home/backhaus/Videos/Process'\n",
        "# Get all m4v Files, Note: If we get non-video files in the list, nvidia dali will crash the notebook instance\n",
        "video_files=[video_directory + '/' + f for f in os.listdir(video_directory) if f.endswith('.m4v')]\n",
        "shuffle=False\n",
        "n_iter=1"
      ],
      "execution_count": 0,
      "outputs": []
    },
    {
      "cell_type": "code",
      "metadata": {
        "colab_type": "code",
        "id": "gfpg_2eeOpLq",
        "outputId": "5e845678-3e9c-4e97-84d4-715609137d38",
        "colab": {
          "base_uri": "https://localhost:8080/",
          "height": 54
        }
      },
      "source": [
        "print(video_files)"
      ],
      "execution_count": 5,
      "outputs": [
        {
          "output_type": "stream",
          "text": [
            "['/content/gdrive/My Drive/CycleAI/Compressed/480p/20200308/2020-03-08 Cycleai 0001 Niederndodeleben 002-3.m4v', '/content/gdrive/My Drive/CycleAI/Compressed/480p/20200308/2020-03-08 Cycleai 0001 Niederndodeleben 001-2.m4v', '/content/gdrive/My Drive/CycleAI/Compressed/480p/20200308/2020-03-08 Cycleai 0001 Niederndodeleben 003-4.m4v', '/content/gdrive/My Drive/CycleAI/Compressed/480p/20200308/2020-03-08 Cycleai 0001 Niederndodeleben 004-5.m4v']\n"
          ],
          "name": "stdout"
        }
      ]
    },
    {
      "cell_type": "code",
      "metadata": {
        "colab_type": "code",
        "id": "Vj0MLR7RO0eQ",
        "colab": {}
      },
      "source": [
        "class VideoPipe(Pipeline):\n",
        "    def __init__(self, batch_size, num_threads, device_id, data, shuffle):\n",
        "        super(VideoPipe, self).__init__(batch_size, num_threads, device_id, seed=16)\n",
        "        self.input = ops.VideoReader(device=\"gpu\", filenames=data, sequence_length=sequence_length,\n",
        "                                     shard_id=0, num_shards=1,\n",
        "                                     random_shuffle=shuffle, initial_fill=initial_prefetch_size)\n",
        "\n",
        "        # self.transpose = ops.Transpose(device=\"gpu\", perm=[0, 3, 1, 2])\n",
        "\n",
        "    def define_graph(self):\n",
        "        raw_img = self.input(name=\"Reader\")\n",
        "        # trans_img = self.transpose(raw_img)\n",
        "        return raw_img"
      ],
      "execution_count": 0,
      "outputs": []
    },
    {
      "cell_type": "code",
      "metadata": {
        "colab_type": "code",
        "id": "92vvplYSPB_m",
        "colab": {}
      },
      "source": [
        "# Simple Test for video loader pipeline\n",
        "pipe = VideoPipe(batch_size=batch_size, num_threads=2, device_id=0, data=video_files, shuffle=shuffle)\n",
        "pipe.build()\n",
        "for i in range(n_iter):\n",
        "    pipe_out = pipe.run()\n",
        "    sequences_out = pipe_out[0].as_cpu().as_array()\n",
        "    print(sequences_out.shape)"
      ],
      "execution_count": 0,
      "outputs": []
    },
    {
      "cell_type": "markdown",
      "metadata": {
        "collapsed": false,
        "id": "mIsgmRvIDihp",
        "colab_type": "text"
      },
      "source": [
        "3. Visualize Frames"
      ]
    },
    {
      "cell_type": "code",
      "metadata": {
        "pycharm": {
          "name": "#%%\n"
        },
        "id": "0GS99KgLDih-",
        "colab_type": "code",
        "colab": {}
      },
      "source": [
        "%matplotlib inline\n",
        "from matplotlib import pyplot as plt\n",
        "import matplotlib.gridspec as gridspec"
      ],
      "execution_count": 0,
      "outputs": []
    },
    {
      "cell_type": "code",
      "metadata": {
        "pycharm": {
          "name": "#%%\n"
        },
        "id": "LTnJUc9DDiiO",
        "colab_type": "code",
        "colab": {}
      },
      "source": [
        "def show_sequence(sequence):\n",
        "    columns = 4\n",
        "    rows = (sequence_length + 1) // columns\n",
        "    fig = plt.figure(figsize = (32,(16 // columns) * rows))\n",
        "    gs = gridspec.GridSpec(rows, columns)\n",
        "    for j in range(rows*columns):\n",
        "        plt.subplot(gs[j])\n",
        "        plt.axis(\"off\")\n",
        "        plt.imshow(sequence[j])"
      ],
      "execution_count": 0,
      "outputs": []
    },
    {
      "cell_type": "code",
      "metadata": {
        "pycharm": {
          "name": "#%%\n"
        },
        "id": "3bYfSDSUy-Rn",
        "colab_type": "code",
        "colab": {}
      },
      "source": [
        "pipe_out = pipe.run()\n",
        "sequences_out = pipe_out[0].as_cpu().as_array()\n",
        "show_sequence(sequences_out[1])"
      ],
      "execution_count": 0,
      "outputs": []
    },
    {
      "cell_type": "markdown",
      "metadata": {
        "collapsed": false,
        "pycharm": {
          "name": "#%% md\n"
        },
        "id": "i72pTB2sDijT",
        "colab_type": "text"
      },
      "source": [
        "4. Try to feed data into a street segmentation network\n",
        "\n",
        "Example: https://github.com/onnx/models/blob/master/vision/object_detection_segmentation/duc/duc-inference.ipynb"
      ]
    },
    {
      "cell_type": "code",
      "metadata": {
        "pycharm": {
          "name": "#%%\n"
        },
        "id": "cZsv0H6yDijU",
        "colab_type": "code",
        "colab": {}
      },
      "source": [
        "import mxnet as mx\n",
        "import cv2 as cv\n",
        "import numpy as np\n",
        "import os\n",
        "from PIL import Image\n",
        "import math\n",
        "from collections import namedtuple\n",
        "from mxnet.contrib.onnx import import_model\n",
        "from duc_postprocess import score_model\n",
        "from duc_preprocess import preprocess\n"
      ],
      "execution_count": 0,
      "outputs": []
    },
    {
      "cell_type": "code",
      "metadata": {
        "pycharm": {
          "name": "#%%\n"
        },
        "id": "ptn92DSNy-R_",
        "colab_type": "code",
        "colab": {}
      },
      "source": [
        "def get_model(ctx, model_path, im):\n",
        "    # import ONNX model into MXNet symbols and params\n",
        "    sym,arg,aux = import_model(model_path)\n",
        "    # define network module\n",
        "    mod = mx.mod.Module(symbol=sym, data_names=['data'], context=ctx, label_names=None)\n",
        "    # bind parameters to the network\n",
        "    mod.bind(for_training=False, data_shapes=[('data', (1, im.shape[1], im.shape[2], im.shape[3]))], label_shapes=mod._label_shapes)\n",
        "    mod.set_params(arg_params=arg, aux_params=aux,allow_missing=True, allow_extra=True)\n",
        "    return mod"
      ],
      "execution_count": 0,
      "outputs": []
    },
    {
      "cell_type": "code",
      "metadata": {
        "pycharm": {
          "name": "#%%\n"
        },
        "id": "l4MjwJnPy-SM",
        "colab_type": "code",
        "colab": {}
      },
      "source": [
        "# Download ONNX model\n",
        "# mx.test_utils.download('https://s3.amazonaws.com/onnx-model-zoo/duc/ResNet101_DUC_HDC.onnx')\n",
        "\n",
        "# Determine and set context\n",
        "if len(mx.test_utils.list_gpus())==0:\n",
        "    ctx = mx.cpu()\n",
        "else:\n",
        "    ctx = mx.gpu(0)\n",
        "\n",
        "pre = preprocess(sequences_out[0,0])\n",
        "print(pre.shape)\n",
        "# Load ONNX model\n",
        "mod = get_model(ctx, 'ResNet101_DUC_HDC.onnx', pre)"
      ],
      "execution_count": 0,
      "outputs": []
    },
    {
      "cell_type": "code",
      "metadata": {
        "pycharm": {
          "name": "#%%\n"
        },
        "id": "fOFECwYEy-SU",
        "colab_type": "code",
        "colab": {}
      },
      "source": [
        "# Preprocess Sequence of images\n",
        "img_raw = sequences_out[1,1]\n",
        "img_pre = preprocess(img_raw)\n",
        "print(pre.shape)\n",
        "# Do inference... #,blended_img,raw\n",
        "conf,result_img, raw = score_model(img_pre, img_raw, mod, (img_pre.shape[2], img_pre.shape[3]))"
      ],
      "execution_count": 0,
      "outputs": []
    },
    {
      "cell_type": "code",
      "metadata": {
        "pycharm": {
          "name": "#%%\n"
        },
        "id": "vi9r-Tn_y-Se",
        "colab_type": "code",
        "colab": {}
      },
      "source": [
        "result_img"
      ],
      "execution_count": 0,
      "outputs": []
    }
  ]
}