{
  "nbformat": 4,
  "nbformat_minor": 0,
  "metadata": {
    "colab": {
      "name": "mylastai_0008_project_handlevideo.ipynb",
      "provenance": [],
      "toc_visible": true,
      "mount_file_id": "https://github.com/prometheusDE/mylastai/blob/master/mylastai_0008_project_handlevideo.ipynb",
      "authorship_tag": "ABX9TyNOpIJN/jAHYQlMSrYqrjkf",
      "include_colab_link": true
    },
    "kernelspec": {
      "name": "python3",
      "display_name": "Python 3"
    },
    "accelerator": "GPU"
  },
  "cells": [
    {
      "cell_type": "markdown",
      "metadata": {
        "id": "view-in-github",
        "colab_type": "text"
      },
      "source": [
        "<a href=\"https://colab.research.google.com/github/prometheusDE/mylastai/blob/master/mylastai_0008_project_handlevideo.ipynb\" target=\"_parent\"><img src=\"https://colab.research.google.com/assets/colab-badge.svg\" alt=\"Open In Colab\"/></a>"
      ]
    },
    {
      "cell_type": "code",
      "metadata": {
        "id": "QwmHjU9fXhdO",
        "colab_type": "code",
        "outputId": "1f0a77d1-ac32-4521-b48a-f5c65a178d53",
        "pycharm": {
          "is_executing": false
        },
        "colab": {
          "base_uri": "https://localhost:8080/",
          "height": 34
        }
      },
      "source": [
        "from google.colab import drive\n",
        "drive.mount('/content/gdrive')"
      ],
      "execution_count": 1,
      "outputs": [
        {
          "output_type": "stream",
          "text": [
            "Mounted at /content/gdrive\n"
          ],
          "name": "stdout"
        }
      ]
    },
    {
      "cell_type": "markdown",
      "metadata": {
        "id": "VeK7NMm_AoEY",
        "colab_type": "text"
      },
      "source": [
        "1. Install Tensorflow and Tensorflow Dataset Extension"
      ]
    },
    {
      "cell_type": "code",
      "metadata": {
        "id": "Bw3dRkXEaSVi",
        "colab_type": "code",
        "pycharm": {
          "is_executing": false
        },
        "colab": {}
      },
      "source": [
        "%%capture\n",
        "!pip install tensorflow-datasets\n",
        "!pip install tensorflow\n",
        "\n",
        "!nvcc --version\n",
        "\n",
        "!pip install --extra-index-url https://developer.download.nvidia.com/compute/redist/cuda/10.0 nvidia-dali\n",
        "!pip install --extra-index-url https://developer.download.nvidia.com/compute/redist/cuda/10.0 nvidia-dali-tf-plugin"
      ],
      "execution_count": 0,
      "outputs": []
    },
    {
      "cell_type": "markdown",
      "metadata": {
        "id": "YM9uO93oBUo9",
        "colab_type": "text"
      },
      "source": [
        "2. Handle Video File\n"
      ]
    },
    {
      "cell_type": "code",
      "metadata": {
        "id": "UT_9ZqLjBY9P",
        "colab_type": "code",
        "colab": {}
      },
      "source": [
        "from nvidia.dali.pipeline import Pipeline\n",
        "import nvidia.dali.ops as ops\n",
        "import nvidia.dali.types as types\n",
        "import numpy as np\n",
        "from timeit import default_timer as timer\n",
        "import numpy as np\n",
        "import matplotlib.pyplot as plt\n",
        "import os.path\n",
        "\n",
        "# https://docs.nvidia.com/deeplearning/sdk/dali-developer-guide/docs/examples/sequence_processing/video/video_reader_simple_example.html"
      ],
      "execution_count": 0,
      "outputs": []
    },
    {
      "cell_type": "code",
      "metadata": {
        "id": "0GcxLCL8N1Fz",
        "colab_type": "code",
        "colab": {}
      },
      "source": [
        "batch_size=2\n",
        "sequence_length=8\n",
        "initial_prefetch_size=16\n",
        "video_directory = '/content/gdrive/My Drive/CycleAI/20200308'\n",
        "video_files=[video_directory + '/' + f for f in os.listdir(video_directory)]\n",
        "shuffle=True\n",
        "n_iter=1"
      ],
      "execution_count": 0,
      "outputs": []
    },
    {
      "cell_type": "code",
      "metadata": {
        "id": "gfpg_2eeOpLq",
        "colab_type": "code",
        "colab": {
          "base_uri": "https://localhost:8080/",
          "height": 54
        },
        "outputId": "f60aadab-eef7-44dc-d723-850eb9072a07"
      },
      "source": [
        "print(video_files)"
      ],
      "execution_count": 5,
      "outputs": [
        {
          "output_type": "stream",
          "text": [
            "['/content/gdrive/My Drive/CycleAI/20200308/2020-03-08_CycleAI_0001_Niederndodeleben_001.MP4', '/content/gdrive/My Drive/CycleAI/20200308/2020-03-08_CycleAI_0001_Niederndodeleben_002.MP4', '/content/gdrive/My Drive/CycleAI/20200308/2020-03-08_CycleAI_0001_Niederndodeleben_003.MP4', '/content/gdrive/My Drive/CycleAI/20200308/2020-03-08_CycleAI_0001_Niederndodeleben_004.MP4', '/content/gdrive/My Drive/CycleAI/20200308/2020-03-08_CycleAI_0001_Niederndodeleben.gpx']\n"
          ],
          "name": "stdout"
        }
      ]
    },
    {
      "cell_type": "code",
      "metadata": {
        "id": "Vj0MLR7RO0eQ",
        "colab_type": "code",
        "colab": {}
      },
      "source": [
        "class VideoPipe(Pipeline):\n",
        "    def __init__(self, batch_size, num_threads, device_id, data, shuffle):\n",
        "        super(VideoPipe, self).__init__(batch_size, num_threads, device_id, seed=16)\n",
        "        self.input = ops.VideoReader(device=\"gpu\", filenames=data, sequence_length=sequence_length,\n",
        "                                     shard_id=0, num_shards=1,\n",
        "                                     random_shuffle=shuffle, initial_fill=initial_prefetch_size)\n",
        "\n",
        "\n",
        "    def define_graph(self):\n",
        "        output = self.input(name=\"Reader\")\n",
        "        return output"
      ],
      "execution_count": 0,
      "outputs": []
    },
    {
      "cell_type": "code",
      "metadata": {
        "id": "92vvplYSPB_m",
        "colab_type": "code",
        "colab": {}
      },
      "source": [
        "pipe = VideoPipe(batch_size=batch_size, num_threads=2, device_id=0, data=video_files, shuffle=shuffle)\n",
        "pipe.build()\n",
        "for i in range(n_iter):\n",
        "    pipe_out = pipe.run()\n",
        "    sequences_out = pipe_out[0].as_cpu().as_array()\n",
        "    print(sequences_out.shape)"
      ],
      "execution_count": 0,
      "outputs": []
    }
  ]
}