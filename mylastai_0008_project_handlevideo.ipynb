{
 "nbformat": 4,
 "nbformat_minor": 0,
 "metadata": {
  "colab": {
   "name": "mylastai_0008_project_handlevideo.ipynb",
   "provenance": [],
   "toc_visible": true,
   "mount_file_id": "https://github.com/prometheusDE/mylastai/blob/master/mylastai_0008_project_handlevideo.ipynb",
   "authorship_tag": "ABX9TyM3XAvy2bnwC3Vhvg6KFHmQ",
   "include_colab_link": true
  },
  "kernelspec": {
   "name": "python3",
   "display_name": "Python 3"
  }
 },
 "cells": [
  {
   "cell_type": "markdown",
   "metadata": {
    "id": "view-in-github",
    "colab_type": "text"
   },
   "source": [
    "<a href=\"https://colab.research.google.com/github/prometheusDE/mylastai/blob/master/mylastai_0008_project_handlevideo.ipynb\" target=\"_parent\"><img src=\"https://colab.research.google.com/assets/colab-badge.svg\" alt=\"Open In Colab\"/></a>"
   ]
  },
  {
   "cell_type": "code",
   "metadata": {
    "id": "QwmHjU9fXhdO",
    "colab_type": "code",
    "outputId": "a49c7183-5f28-4b46-cb82-aa555a5b8ed8",
    "colab": {
     "base_uri": "https://localhost:8080/",
     "height": 122
    },
    "pycharm": {
     "is_executing": false
    }
   },
   "source": [
    "from google.colab import drive\n",
    "drive.mount('/content/gdrive')"
   ],
   "execution_count": 1,
   "outputs": [
    {
     "traceback": [
      "\u001b[0;31m---------------------------------------------------------------------------\u001b[0m",
      "\u001b[0;31mModuleNotFoundError\u001b[0m                       Traceback (most recent call last)",
      "\u001b[0;32m<ipython-input-1-19e6feed25e4>\u001b[0m in \u001b[0;36m<module>\u001b[0;34m\u001b[0m\n\u001b[0;32m----> 1\u001b[0;31m \u001b[0;32mfrom\u001b[0m \u001b[0mgoogle\u001b[0m\u001b[0;34m.\u001b[0m\u001b[0mcolab\u001b[0m \u001b[0;32mimport\u001b[0m \u001b[0mdrive\u001b[0m\u001b[0;34m\u001b[0m\u001b[0;34m\u001b[0m\u001b[0m\n\u001b[0m\u001b[1;32m      2\u001b[0m \u001b[0mdrive\u001b[0m\u001b[0;34m.\u001b[0m\u001b[0mmount\u001b[0m\u001b[0;34m(\u001b[0m\u001b[0;34m'/content/gdrive'\u001b[0m\u001b[0;34m)\u001b[0m\u001b[0;34m\u001b[0m\u001b[0;34m\u001b[0m\u001b[0m\n\u001b[1;32m      3\u001b[0m \u001b[0;34m\u001b[0m\u001b[0m\n",
      "\u001b[0;31mModuleNotFoundError\u001b[0m: No module named 'google'"
     ],
     "ename": "ModuleNotFoundError",
     "evalue": "No module named 'google'",
     "output_type": "error"
    }
   ]
  },
  {
   "cell_type": "code",
   "metadata": {
    "id": "Bw3dRkXEaSVi",
    "colab_type": "code",
    "outputId": "ebcefbf7-3a2c-40bd-f990-8801085f97fd",
    "colab": {
     "base_uri": "https://localhost:8080/",
     "height": 97
    },
    "pycharm": {
     "is_executing": false
    }
   },
   "source": [
    "import cv2     # for capturing videos\n",
    "import math   # for mathematical operations\n",
    "import matplotlib.pyplot as plt    # for plotting the images\n",
    "%matplotlib inline\n",
    "import pandas as pd\n",
    "from keras.preprocessing import image   # for preprocessing the images\n",
    "import numpy as np    # for mathematical operations\n",
    "from keras.utils import np_utils\n",
    "from skimage.transform import resize   # for resizing images"
   ],
   "execution_count": null,
   "outputs": []
  },
  {
   "cell_type": "code",
   "metadata": {
    "id": "XSG_9c3NbIFa",
    "colab_type": "code",
    "colab": {
     "base_uri": "https://localhost:8080/",
     "height": 1000
    },
    "outputId": "ea20de0d-69c9-4128-a9e7-4a01ffacc705",
    "pycharm": {
     "is_executing": false
    }
   },
   "source": [
    "import os.path\n",
    "from os import path\n",
    "\n",
    "from google.colab import files\n",
    "\n",
    "count = 0\n",
    "videoFile = \"/content/gdrive/My Drive/CycleAI/20200309/2020-03-09_CycleAI_0002_Hinfahrt_IFF_001.MP4\"\n",
    "print (\"File exists:\"+str(path.exists(videoFile)))\n",
    "cap = cv2.VideoCapture(videoFile)   # capturing the video from the given path\n",
    "print(cap)\n",
    "frameRate = cap.get(5) #frame rate\n",
    "print(frameRate)\n",
    "x=1\n",
    "while(cap.isOpened()):\n",
    "    frameId = cap.get(1) #current frame number\n",
    "    ret, frame = cap.read()\n",
    "    if (ret != True):\n",
    "        break\n",
    "    if (frameId % math.floor(frameRate) == 0):\n",
    "        filename =\"/content/gdrive/My Drive/CycleAI/20200309/2020-03-09_CycleAI_0002_Hinfahrt_IFF_001_frame%05d.png\" % count;count+=1\n",
    "        retval = cv2.imwrite(filename, frame)\n",
    "        print(filename)\n",
    "        print(retval)\n",
    "cap.release()\n",
    "print (\"Done!\")"
   ],
   "execution_count": null,
   "outputs": []
  }
 ]
}