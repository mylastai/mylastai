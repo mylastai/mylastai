{
 "cells": [
  {
   "cell_type": "code",
   "execution_count": 1,
   "metadata": {},
   "outputs": [
    {
     "name": "stdout",
     "output_type": "stream",
     "text": [
      "Looking in indexes: https://pypi.org/simple, https://pypi.ngc.nvidia.com\r\n",
      "Collecting git+https://github.com/keras-team/keras-tuner.git@1.0.2rc3\r\n",
      "  Cloning https://github.com/keras-team/keras-tuner.git (to revision 1.0.2rc3) to /tmp/pip-req-build-57e11vff\r\n",
      "Requirement already satisfied (use --upgrade to upgrade): keras-tuner==1.0.2rc3 from git+https://github.com/keras-team/keras-tuner.git@1.0.2rc3 in ./venv/lib/python3.8/site-packages\r\n",
      "Requirement already satisfied: packaging in ./venv/lib/python3.8/site-packages (from keras-tuner==1.0.2rc3) (20.4)\r\n",
      "Requirement already satisfied: future in ./venv/lib/python3.8/site-packages (from keras-tuner==1.0.2rc3) (0.18.2)\r\n",
      "Requirement already satisfied: numpy<1.19.0 in ./venv/lib/python3.8/site-packages (from keras-tuner==1.0.2rc3) (1.18.5)\r\n",
      "Requirement already satisfied: tabulate in ./venv/lib/python3.8/site-packages (from keras-tuner==1.0.2rc3) (0.8.7)\r\n",
      "Requirement already satisfied: terminaltables in ./venv/lib/python3.8/site-packages (from keras-tuner==1.0.2rc3) (3.1.0)\r\n",
      "Requirement already satisfied: colorama in ./venv/lib/python3.8/site-packages (from keras-tuner==1.0.2rc3) (0.4.4)\r\n",
      "Requirement already satisfied: tqdm in ./venv/lib/python3.8/site-packages (from keras-tuner==1.0.2rc3) (4.50.2)\r\n",
      "Requirement already satisfied: requests in ./venv/lib/python3.8/site-packages (from keras-tuner==1.0.2rc3) (2.24.0)\r\n",
      "Requirement already satisfied: scipy in ./venv/lib/python3.8/site-packages (from keras-tuner==1.0.2rc3) (1.5.3)\r\n",
      "Requirement already satisfied: scikit-learn in ./venv/lib/python3.8/site-packages (from keras-tuner==1.0.2rc3) (0.23.2)\r\n",
      "Requirement already satisfied: pyparsing>=2.0.2 in ./venv/lib/python3.8/site-packages (from packaging->keras-tuner==1.0.2rc3) (2.4.7)\r\n",
      "Requirement already satisfied: six in ./venv/lib/python3.8/site-packages (from packaging->keras-tuner==1.0.2rc3) (1.15.0)\r\n",
      "Requirement already satisfied: chardet<4,>=3.0.2 in ./venv/lib/python3.8/site-packages (from requests->keras-tuner==1.0.2rc3) (3.0.4)\r\n",
      "Requirement already satisfied: idna<3,>=2.5 in ./venv/lib/python3.8/site-packages (from requests->keras-tuner==1.0.2rc3) (2.10)\r\n",
      "Requirement already satisfied: urllib3!=1.25.0,!=1.25.1,<1.26,>=1.21.1 in ./venv/lib/python3.8/site-packages (from requests->keras-tuner==1.0.2rc3) (1.25.10)\r\n",
      "Requirement already satisfied: certifi>=2017.4.17 in ./venv/lib/python3.8/site-packages (from requests->keras-tuner==1.0.2rc3) (2020.6.20)\r\n",
      "Requirement already satisfied: joblib>=0.11 in ./venv/lib/python3.8/site-packages (from scikit-learn->keras-tuner==1.0.2rc3) (0.17.0)\r\n",
      "Requirement already satisfied: threadpoolctl>=2.0.0 in ./venv/lib/python3.8/site-packages (from scikit-learn->keras-tuner==1.0.2rc3) (2.1.0)\r\n",
      "Building wheels for collected packages: keras-tuner\r\n",
      "  Building wheel for keras-tuner (setup.py) ... \u001B[?25l-\b \bdone\r\n",
      "\u001B[?25h  Created wheel for keras-tuner: filename=keras_tuner-1.0.2rc3-py3-none-any.whl size=91634 sha256=3e2c40e548acbf5adfb231261080caf7524ab8cb158e71e303254bb18469a644\r\n",
      "  Stored in directory: /tmp/pip-ephem-wheel-cache-s2eur9p_/wheels/2c/0c/52/ea21eaa4a841e032a5f83855d28d5ff7a0ff1b695ba20832d2\r\n",
      "Successfully built keras-tuner\r\n",
      "\u001B[33mWARNING: You are using pip version 20.2.3; however, version 20.2.4 is available.\r\n",
      "You should consider upgrading via the '/home/backhaus/Entwicklung/01_MLAI/mylastai/venv/bin/python -m pip install --upgrade pip' command.\u001B[0m\r\n",
      "Looking in indexes: https://pypi.org/simple, https://pypi.ngc.nvidia.com\r\n",
      "Requirement already satisfied: autokeras in ./venv/lib/python3.8/site-packages (1.0.10)\r\n",
      "Requirement already satisfied: scikit-learn in ./venv/lib/python3.8/site-packages (from autokeras) (0.23.2)\r\n",
      "Requirement already satisfied: tf-models-official in ./venv/lib/python3.8/site-packages (from autokeras) (2.3.0)\r\n",
      "Requirement already satisfied: tensorflow>=2.3.0 in ./venv/lib/python3.8/site-packages (from autokeras) (2.3.1)\r\n",
      "Requirement already satisfied: packaging in ./venv/lib/python3.8/site-packages (from autokeras) (20.4)\r\n",
      "Requirement already satisfied: pandas in ./venv/lib/python3.8/site-packages (from autokeras) (1.1.3)\r\n",
      "Requirement already satisfied: joblib>=0.11 in ./venv/lib/python3.8/site-packages (from scikit-learn->autokeras) (0.17.0)\r\n",
      "Requirement already satisfied: numpy>=1.13.3 in ./venv/lib/python3.8/site-packages (from scikit-learn->autokeras) (1.18.5)\r\n",
      "Requirement already satisfied: threadpoolctl>=2.0.0 in ./venv/lib/python3.8/site-packages (from scikit-learn->autokeras) (2.1.0)\r\n",
      "Requirement already satisfied: scipy>=0.19.1 in ./venv/lib/python3.8/site-packages (from scikit-learn->autokeras) (1.5.3)\r\n",
      "Requirement already satisfied: psutil>=5.4.3 in ./venv/lib/python3.8/site-packages (from tf-models-official->autokeras) (5.7.2)\r\n",
      "Requirement already satisfied: pyyaml in ./venv/lib/python3.8/site-packages (from tf-models-official->autokeras) (5.3.1)\r\n",
      "Requirement already satisfied: six in ./venv/lib/python3.8/site-packages (from tf-models-official->autokeras) (1.15.0)\r\n",
      "Requirement already satisfied: matplotlib in ./venv/lib/python3.8/site-packages (from tf-models-official->autokeras) (3.3.2)\r\n",
      "Requirement already satisfied: dataclasses in ./venv/lib/python3.8/site-packages (from tf-models-official->autokeras) (0.6)\r\n",
      "Requirement already satisfied: py-cpuinfo>=3.3.0 in ./venv/lib/python3.8/site-packages (from tf-models-official->autokeras) (7.0.0)\r\n",
      "Requirement already satisfied: tensorflow-model-optimization>=0.2.1 in ./venv/lib/python3.8/site-packages (from tf-models-official->autokeras) (0.5.0)\r\n",
      "Requirement already satisfied: tensorflow-hub>=0.6.0 in ./venv/lib/python3.8/site-packages (from tf-models-official->autokeras) (0.9.0)\r\n",
      "Requirement already satisfied: Pillow in ./venv/lib/python3.8/site-packages (from tf-models-official->autokeras) (8.0.0)\r\n",
      "Requirement already satisfied: gin-config in ./venv/lib/python3.8/site-packages (from tf-models-official->autokeras) (0.3.0)\r\n",
      "Requirement already satisfied: kaggle>=1.3.9 in ./venv/lib/python3.8/site-packages (from tf-models-official->autokeras) (1.5.9)\r\n",
      "Requirement already satisfied: tensorflow-addons in ./venv/lib/python3.8/site-packages (from tf-models-official->autokeras) (0.11.2)\r\n",
      "Requirement already satisfied: google-cloud-bigquery>=0.31.0 in ./venv/lib/python3.8/site-packages (from tf-models-official->autokeras) (2.2.0)\r\n",
      "Requirement already satisfied: tf-slim>=1.1.0 in ./venv/lib/python3.8/site-packages (from tf-models-official->autokeras) (1.1.0)\r\n",
      "Requirement already satisfied: sentencepiece in ./venv/lib/python3.8/site-packages (from tf-models-official->autokeras) (0.1.91)\r\n",
      "Requirement already satisfied: google-api-python-client>=1.6.7 in ./venv/lib/python3.8/site-packages (from tf-models-official->autokeras) (1.12.4)\r\n",
      "Requirement already satisfied: opencv-python-headless in ./venv/lib/python3.8/site-packages (from tf-models-official->autokeras) (4.4.0.44)\r\n",
      "Requirement already satisfied: Cython in ./venv/lib/python3.8/site-packages (from tf-models-official->autokeras) (0.29.21)\r\n",
      "Requirement already satisfied: tensorflow-datasets in ./venv/lib/python3.8/site-packages (from tf-models-official->autokeras) (4.0.1)\r\n",
      "Requirement already satisfied: termcolor>=1.1.0 in ./venv/lib/python3.8/site-packages (from tensorflow>=2.3.0->autokeras) (1.1.0)\r\n",
      "Requirement already satisfied: wheel>=0.26 in ./venv/lib/python3.8/site-packages (from tensorflow>=2.3.0->autokeras) (0.35.1)\r\n",
      "Requirement already satisfied: tensorboard<3,>=2.3.0 in ./venv/lib/python3.8/site-packages (from tensorflow>=2.3.0->autokeras) (2.3.0)\r\n",
      "Requirement already satisfied: protobuf>=3.9.2 in ./venv/lib/python3.8/site-packages (from tensorflow>=2.3.0->autokeras) (3.13.0)\r\n",
      "Requirement already satisfied: grpcio>=1.8.6 in ./venv/lib/python3.8/site-packages (from tensorflow>=2.3.0->autokeras) (1.32.0)\r\n",
      "Requirement already satisfied: wrapt>=1.11.1 in ./venv/lib/python3.8/site-packages (from tensorflow>=2.3.0->autokeras) (1.12.1)\r\n",
      "Requirement already satisfied: opt-einsum>=2.3.2 in ./venv/lib/python3.8/site-packages (from tensorflow>=2.3.0->autokeras) (3.3.0)\r\n",
      "Requirement already satisfied: astunparse==1.6.3 in ./venv/lib/python3.8/site-packages (from tensorflow>=2.3.0->autokeras) (1.6.3)\r\n",
      "Requirement already satisfied: keras-preprocessing<1.2,>=1.1.1 in ./venv/lib/python3.8/site-packages (from tensorflow>=2.3.0->autokeras) (1.1.2)\r\n",
      "Requirement already satisfied: gast==0.3.3 in ./venv/lib/python3.8/site-packages (from tensorflow>=2.3.0->autokeras) (0.3.3)\r\n",
      "Requirement already satisfied: h5py<2.11.0,>=2.10.0 in ./venv/lib/python3.8/site-packages (from tensorflow>=2.3.0->autokeras) (2.10.0)\r\n",
      "Requirement already satisfied: google-pasta>=0.1.8 in ./venv/lib/python3.8/site-packages (from tensorflow>=2.3.0->autokeras) (0.2.0)\r\n",
      "Requirement already satisfied: tensorflow-estimator<2.4.0,>=2.3.0 in ./venv/lib/python3.8/site-packages (from tensorflow>=2.3.0->autokeras) (2.3.0)\r\n",
      "Requirement already satisfied: absl-py>=0.7.0 in ./venv/lib/python3.8/site-packages (from tensorflow>=2.3.0->autokeras) (0.10.0)\r\n",
      "Requirement already satisfied: pyparsing>=2.0.2 in ./venv/lib/python3.8/site-packages (from packaging->autokeras) (2.4.7)\r\n",
      "Requirement already satisfied: python-dateutil>=2.7.3 in ./venv/lib/python3.8/site-packages (from pandas->autokeras) (2.8.1)\r\n",
      "Requirement already satisfied: pytz>=2017.2 in ./venv/lib/python3.8/site-packages (from pandas->autokeras) (2020.1)\r\n",
      "Requirement already satisfied: cycler>=0.10 in ./venv/lib/python3.8/site-packages (from matplotlib->tf-models-official->autokeras) (0.10.0)\r\n",
      "Requirement already satisfied: kiwisolver>=1.0.1 in ./venv/lib/python3.8/site-packages (from matplotlib->tf-models-official->autokeras) (1.2.0)\r\n",
      "Requirement already satisfied: certifi>=2020.06.20 in ./venv/lib/python3.8/site-packages (from matplotlib->tf-models-official->autokeras) (2020.6.20)\r\n",
      "Requirement already satisfied: dm-tree~=0.1.1 in ./venv/lib/python3.8/site-packages (from tensorflow-model-optimization>=0.2.1->tf-models-official->autokeras) (0.1.5)\r\n",
      "Requirement already satisfied: python-slugify in ./venv/lib/python3.8/site-packages (from kaggle>=1.3.9->tf-models-official->autokeras) (4.0.1)\r\n",
      "Requirement already satisfied: slugify in ./venv/lib/python3.8/site-packages (from kaggle>=1.3.9->tf-models-official->autokeras) (0.0.1)\r\n",
      "Requirement already satisfied: tqdm in ./venv/lib/python3.8/site-packages (from kaggle>=1.3.9->tf-models-official->autokeras) (4.50.2)\r\n",
      "Requirement already satisfied: urllib3 in ./venv/lib/python3.8/site-packages (from kaggle>=1.3.9->tf-models-official->autokeras) (1.25.10)\r\n",
      "Requirement already satisfied: requests in ./venv/lib/python3.8/site-packages (from kaggle>=1.3.9->tf-models-official->autokeras) (2.24.0)\r\n",
      "Requirement already satisfied: typeguard>=2.7 in ./venv/lib/python3.8/site-packages (from tensorflow-addons->tf-models-official->autokeras) (2.10.0)\r\n",
      "Requirement already satisfied: proto-plus>=1.10.0 in ./venv/lib/python3.8/site-packages (from google-cloud-bigquery>=0.31.0->tf-models-official->autokeras) (1.11.0)\r\n",
      "Requirement already satisfied: google-cloud-core<2.0dev,>=1.4.1 in ./venv/lib/python3.8/site-packages (from google-cloud-bigquery>=0.31.0->tf-models-official->autokeras) (1.4.3)\r\n",
      "Requirement already satisfied: google-resumable-media<2.0dev,>=0.6.0 in ./venv/lib/python3.8/site-packages (from google-cloud-bigquery>=0.31.0->tf-models-official->autokeras) (1.1.0)\r\n",
      "Requirement already satisfied: google-api-core[grpc]<2.0.0dev,>=1.22.2 in ./venv/lib/python3.8/site-packages (from google-cloud-bigquery>=0.31.0->tf-models-official->autokeras) (1.23.0)\r\n",
      "Requirement already satisfied: google-auth>=1.16.0 in ./venv/lib/python3.8/site-packages (from google-api-python-client>=1.6.7->tf-models-official->autokeras) (1.22.1)\r\n",
      "Requirement already satisfied: uritemplate<4dev,>=3.0.0 in ./venv/lib/python3.8/site-packages (from google-api-python-client>=1.6.7->tf-models-official->autokeras) (3.0.1)\r\n",
      "Requirement already satisfied: httplib2<1dev,>=0.15.0 in ./venv/lib/python3.8/site-packages (from google-api-python-client>=1.6.7->tf-models-official->autokeras) (0.18.1)\r\n",
      "Requirement already satisfied: google-auth-httplib2>=0.0.3 in ./venv/lib/python3.8/site-packages (from google-api-python-client>=1.6.7->tf-models-official->autokeras) (0.0.4)\r\n",
      "Requirement already satisfied: promise in ./venv/lib/python3.8/site-packages (from tensorflow-datasets->tf-models-official->autokeras) (2.3)\r\n",
      "Requirement already satisfied: importlib-resources; python_version < \"3.9\" in ./venv/lib/python3.8/site-packages (from tensorflow-datasets->tf-models-official->autokeras) (3.0.0)\r\n",
      "Requirement already satisfied: future in ./venv/lib/python3.8/site-packages (from tensorflow-datasets->tf-models-official->autokeras) (0.18.2)\r\n",
      "Requirement already satisfied: tensorflow-metadata in ./venv/lib/python3.8/site-packages (from tensorflow-datasets->tf-models-official->autokeras) (0.24.0)\r\n",
      "Requirement already satisfied: dill in ./venv/lib/python3.8/site-packages (from tensorflow-datasets->tf-models-official->autokeras) (0.3.2)\r\n",
      "Requirement already satisfied: attrs>=18.1.0 in ./venv/lib/python3.8/site-packages (from tensorflow-datasets->tf-models-official->autokeras) (20.2.0)\r\n",
      "Requirement already satisfied: markdown>=2.6.8 in ./venv/lib/python3.8/site-packages (from tensorboard<3,>=2.3.0->tensorflow>=2.3.0->autokeras) (3.3.1)\r\n",
      "Requirement already satisfied: google-auth-oauthlib<0.5,>=0.4.1 in ./venv/lib/python3.8/site-packages (from tensorboard<3,>=2.3.0->tensorflow>=2.3.0->autokeras) (0.4.1)\r\n",
      "Requirement already satisfied: tensorboard-plugin-wit>=1.6.0 in ./venv/lib/python3.8/site-packages (from tensorboard<3,>=2.3.0->tensorflow>=2.3.0->autokeras) (1.7.0)\r\n",
      "Requirement already satisfied: werkzeug>=0.11.15 in ./venv/lib/python3.8/site-packages (from tensorboard<3,>=2.3.0->tensorflow>=2.3.0->autokeras) (1.0.1)\r\n",
      "Requirement already satisfied: setuptools>=41.0.0 in ./venv/lib/python3.8/site-packages (from tensorboard<3,>=2.3.0->tensorflow>=2.3.0->autokeras) (50.3.0)\r\n",
      "Requirement already satisfied: text-unidecode>=1.3 in ./venv/lib/python3.8/site-packages (from python-slugify->kaggle>=1.3.9->tf-models-official->autokeras) (1.3)\r\n",
      "Requirement already satisfied: idna<3,>=2.5 in ./venv/lib/python3.8/site-packages (from requests->kaggle>=1.3.9->tf-models-official->autokeras) (2.10)\r\n",
      "Requirement already satisfied: chardet<4,>=3.0.2 in ./venv/lib/python3.8/site-packages (from requests->kaggle>=1.3.9->tf-models-official->autokeras) (3.0.4)\r\n",
      "Requirement already satisfied: google-crc32c<2.0dev,>=1.0; python_version >= \"3.5\" in ./venv/lib/python3.8/site-packages (from google-resumable-media<2.0dev,>=0.6.0->google-cloud-bigquery>=0.31.0->tf-models-official->autokeras) (1.0.0)\r\n",
      "Requirement already satisfied: googleapis-common-protos<2.0dev,>=1.6.0 in ./venv/lib/python3.8/site-packages (from google-api-core[grpc]<2.0.0dev,>=1.22.2->google-cloud-bigquery>=0.31.0->tf-models-official->autokeras) (1.52.0)\r\n",
      "Requirement already satisfied: pyasn1-modules>=0.2.1 in ./venv/lib/python3.8/site-packages (from google-auth>=1.16.0->google-api-python-client>=1.6.7->tf-models-official->autokeras) (0.2.8)\r\n",
      "Requirement already satisfied: rsa<5,>=3.1.4; python_version >= \"3.5\" in ./venv/lib/python3.8/site-packages (from google-auth>=1.16.0->google-api-python-client>=1.6.7->tf-models-official->autokeras) (4.6)\r\n",
      "Requirement already satisfied: cachetools<5.0,>=2.0.0 in ./venv/lib/python3.8/site-packages (from google-auth>=1.16.0->google-api-python-client>=1.6.7->tf-models-official->autokeras) (4.1.1)\r\n",
      "Requirement already satisfied: requests-oauthlib>=0.7.0 in ./venv/lib/python3.8/site-packages (from google-auth-oauthlib<0.5,>=0.4.1->tensorboard<3,>=2.3.0->tensorflow>=2.3.0->autokeras) (1.3.0)\r\n",
      "Requirement already satisfied: cffi>=1.0.0 in ./venv/lib/python3.8/site-packages (from google-crc32c<2.0dev,>=1.0; python_version >= \"3.5\"->google-resumable-media<2.0dev,>=0.6.0->google-cloud-bigquery>=0.31.0->tf-models-official->autokeras) (1.14.3)\r\n",
      "Requirement already satisfied: pyasn1<0.5.0,>=0.4.6 in ./venv/lib/python3.8/site-packages (from pyasn1-modules>=0.2.1->google-auth>=1.16.0->google-api-python-client>=1.6.7->tf-models-official->autokeras) (0.4.8)\r\n",
      "Requirement already satisfied: oauthlib>=3.0.0 in ./venv/lib/python3.8/site-packages (from requests-oauthlib>=0.7.0->google-auth-oauthlib<0.5,>=0.4.1->tensorboard<3,>=2.3.0->tensorflow>=2.3.0->autokeras) (3.1.0)\r\n",
      "Requirement already satisfied: pycparser in ./venv/lib/python3.8/site-packages (from cffi>=1.0.0->google-crc32c<2.0dev,>=1.0; python_version >= \"3.5\"->google-resumable-media<2.0dev,>=0.6.0->google-cloud-bigquery>=0.31.0->tf-models-official->autokeras) (2.20)\r\n",
      "\u001B[33mWARNING: You are using pip version 20.2.3; however, version 20.2.4 is available.\r\n",
      "You should consider upgrading via the '/home/backhaus/Entwicklung/01_MLAI/mylastai/venv/bin/python -m pip install --upgrade pip' command.\u001B[0m\r\n"
     ]
    }
   ],
   "source": [
    "!pip3 install git+https://github.com/keras-team/keras-tuner.git@1.0.2rc3\n",
    "!pip3 install autokeras"
   ]
  },
  {
   "cell_type": "code",
   "execution_count": 2,
   "metadata": {},
   "outputs": [],
   "source": [
    "import autokeras as ak"
   ]
  },
  {
   "cell_type": "code",
   "execution_count": 3,
   "metadata": {},
   "outputs": [],
   "source": [
    "from tensorflow.keras.datasets import mnist\n",
    "(x_train, y_train), (x_test, y_test) = mnist.load_data()"
   ]
  },
  {
   "cell_type": "code",
   "execution_count": null,
   "metadata": {
    "pycharm": {
     "is_executing": true
    }
   },
   "outputs": [
    {
     "name": "stdout",
     "output_type": "stream",
     "text": [
      "INFO:tensorflow:Reloading Oracle from existing project ./image_classifier/oracle.json\n",
      "INFO:tensorflow:Reloading Tuner from ./image_classifier/tuner0.json\n",
      "\n",
      "Search: Running Trial #1\n",
      "\n",
      "Hyperparameter    |Value             |Best Value So Far \n",
      "image_block_1/b...|resnet            |vanilla           \n",
      "image_block_1/n...|True              |True              \n",
      "image_block_1/a...|True              |False             \n",
      "image_block_1/i...|True              |None              \n",
      "image_block_1/i...|True              |None              \n",
      "image_block_1/i...|0                 |None              \n",
      "image_block_1/i...|0                 |None              \n",
      "image_block_1/i...|0.1               |None              \n",
      "image_block_1/i...|0                 |None              \n",
      "image_block_1/r...|False             |None              \n",
      "image_block_1/r...|resnet50          |None              \n",
      "image_block_1/r...|True              |None              \n",
      "classification_...|global_avg        |flatten           \n",
      "classification_...|0                 |0.5               \n",
      "optimizer         |adam              |adam              \n",
      "learning_rate     |0.001             |0.001             \n",
      "\n",
      "Epoch 1/3\n",
      "  10/1500 [..............................] - ETA: 2:56:13 - loss: 3.2291 - accuracy: 0.1969\b\b\b\b\b\b\b\b\b\b\b\b\b\b\b\b\b\b\b\b\b\b\b\b\b\b\b\b\b\b\b\b\b\b\b\b\b\b\b\b\b\b\b\b\b\b\b\b\b\b\b\b\b\b\b\b\b\b\b\b\b\b\b\b\b\b\b\b\b\b\b\b\b\b\b\b\b\b\b\b\b\b\b\b\b\b\b\b\b\b\b\b\b\b\b\b\b\b\b\b\b\b\b\b\b\b\b\b\b\b\b\b\b\b\b\b\b\b\b\b\b\b\b\b\b\b\b\b\b\b\b\b\b\b\b\b\b\b\b\b\b\b\b\b\b\b\b\b\b\b\b\b\b\b\b\b\b\b\b\b\b\b\b\b\b\b\b\b\b\b\b\b\b\b\b\b\b\b\b\b\b\b\b\b\b\b\b\b\b\b\b\b\b\b\b\b\b\b\b\b\b\b\b\b\b\b\b\b\b\b\b\b\b\b\b\b\b\b\b\b\b\b\b\b\b\b\b\b\b\b\b\b\b\b\b\b\b\b\b\b\b\b\b\b\b\b\b\b\b\b\b\b\b\b\b\b\b\b\b\b\b\b\b\b\b\b\b\b\b\b\b\b\b\b\b\b\b\b\b\b\b\b\b\b\b\b\b\b\b\b\b\b\b\b\b\b\b\b\b\b\b\b\b\b\b\b\b\b\b\b\b\b\b\b\b\b\b\b\b\b\b\b\b\b\b\b\b\b\b\b\b\b\b\b\b\b\b\b\b\b\b\b\b\b\b\b\b\b\b\b\b\b\b\b\b\b\b\b\b\b\b\b\b\b\b\b\b\b\b\b\b\b\b\b\b\b\b\b\b\b\b\b\b\b\b\b\b\b\b\b\b\b\b\b\b\b\b\b\b\b\b\b\b\b\b\b\b\b\b\b\b\b\b\b\b\b\b\b\b\b\b\b\b\b\b\b\b\b\b\b\b\b\b\b\b\b\b\b\b\b\b\b\b\b\b\b\b\b\b\b\b\b\b\b\b\b\b\b\b\b\b\b\b\b\b\b\b\b\b\b\b\b\b\b\b\b\b\b\b\b\b\b\b\b\b\b\b\b\b\b\b\b\b\b\b\b\b\b\b\b\b\b\b\b\b\b\b\b\b\b\b\b\b\b\b\b\b\b\b\b\b\b\b\b\b\b\b\b\b\b\b\b\b\b\b\b\b\b\b\b\b\b\b\b\b\b\b\b\b\b\b\b\b\b\b\b\b\b\b\b\b\b\b\b\b\b\b\b\b\b\b\b\b\b\b\b\b\b\b\b\b\b\b\b\b\b\b\b\b\b\b\b\b\b\b\b\b\b\b\b\b\b\b\b\b\b\b\b\b\b\b\b\b\b\b\b\b\b\b\b\b\b\b\b\b\b\b\b\b\b\b\b\b\b\b\b\b\b\b\b\b\b\b\b\b\b\b\b\b\b\b\b\b\b\b\b\b\b\b\b\b\b\b\b\b\b\b\b\b\b\b\b\b\b\b\b\b\b\b\b\b\b\b\b\b\b\b\b\b\b\b\b\b\b\b\b\b\b\b\b\b\b\b\b\b\b\b\b\b\b\b\b\b\b\b\b\b\b\b\b\b\b\b\b\b\b\b\b\b\b\b\b\b\b\b\b\b\b\b\b\b\b\b\b\b\b\b\b\b\b\b\b\b\b\b\b\b\b\b\b\b\b\b\b\b\b\b\b\b\b\b\b\b\b\b\b\b\b\b\b\b\b\b\b\b\b\b\b\b\b\b\b\b\b\b\b\b\b\b\b\b\b\b\b\b\b\b\b\b"
     ]
    }
   ],
   "source": [
    "clf = ak.ImageClassifier()\n",
    "clf.fit(x_train, y_train, epochs=3)"
   ]
  }
 ],
 "metadata": {
  "kernelspec": {
   "name": "python3",
   "language": "python",
   "display_name": "Python 3"
  },
  "language_info": {
   "codemirror_mode": {
    "name": "ipython",
    "version": 3
   },
   "file_extension": ".py",
   "mimetype": "text/x-python",
   "name": "python",
   "nbconvert_exporter": "python",
   "pygments_lexer": "ipython3",
   "version": "3.7.7"
  }
 },
 "nbformat": 4,
 "nbformat_minor": 2
}