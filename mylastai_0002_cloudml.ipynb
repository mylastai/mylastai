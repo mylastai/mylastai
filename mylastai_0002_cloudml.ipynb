{
  "nbformat": 4,
  "nbformat_minor": 0,
  "metadata": {
    "colab": {
      "name": "mylastai-0002-cloudml.ipynb",
      "version": "0.3.2",
      "provenance": [],
      "collapsed_sections": [],
      "include_colab_link": true
    },
    "kernelspec": {
      "name": "python2",
      "display_name": "Python 2"
    }
  },
  "cells": [
    {
      "cell_type": "markdown",
      "metadata": {
        "id": "view-in-github",
        "colab_type": "text"
      },
      "source": [
        "<a href=\"https://colab.research.google.com/github/prometheusDE/mylastai/blob/master/mylastai_0002_cloudml.ipynb\" target=\"_parent\"><img src=\"https://colab.research.google.com/assets/colab-badge.svg\" alt=\"Open In Colab\"/></a>"
      ]
    },
    {
      "metadata": {
        "id": "UTDXUlhnIk1x",
        "colab_type": "code",
        "outputId": "edfb04ed-6683-4f99-f431-d15775955848",
        "colab": {
          "base_uri": "https://localhost:8080/",
          "height": 335
        }
      },
      "cell_type": "code",
      "source": [
        "!curl https://sdk.cloud.google.com | bash\n",
        "!exec -l $SHELL"
      ],
      "execution_count": 0,
      "outputs": [
        {
          "output_type": "stream",
          "text": [
            "  % Total    % Received % Xferd  Average Speed   Time    Time     Time  Current\n",
            "                                 Dload  Upload   Total   Spent    Left  Speed\n",
            "\r  0     0    0     0    0     0      0      0 --:--:-- --:--:-- --:--:--     0\r100   443    0   443    0     0  26058      0 --:--:-- --:--:-- --:--:-- 26058\n",
            "Downloading Google Cloud SDK install script: https://dl.google.com/dl/cloudsdk/channels/rapid/install_google_cloud_sdk.bash\n",
            "\r######################################################################## 100.0%\n",
            "Running install script from: /tmp/tmp.JNVJPusrms/install_google_cloud_sdk.bash\n",
            "which curl\n",
            "curl -# -f https://dl.google.com/dl/cloudsdk/channels/rapid/google-cloud-sdk.tar.gz\n",
            "\r####################################                                      50.3%\r######################################################################## 100.0%\n",
            "\n",
            "mkdir -p /root\n",
            "\"/root/google-cloud-sdk\" already exists and may contain out of date files.\n",
            "Remove /root/google-cloud-sdk or select a new installation directory, then run again.\n",
            "bash: cannot set terminal process group (1199): Inappropriate ioctl for device\n",
            "bash: no job control in this shell\n",
            "\u001b]0;root@52e305343567: /content\u0007\u001b[01;32mroot@52e305343567\u001b[00m:\u001b[01;34m/content\u001b[00m# \n",
            "\u001b]0;root@52e305343567: /content\u0007\u001b[01;32mroot@52e305343567\u001b[00m:\u001b[01;34m/content\u001b[00m# \n",
            "\u001b]0;root@52e305343567: /content\u0007\u001b[01;32mroot@52e305343567\u001b[00m:\u001b[01;34m/content\u001b[00m# "
          ],
          "name": "stdout"
        }
      ]
    },
    {
      "metadata": {
        "id": "90QECOMO4iag",
        "colab_type": "code",
        "colab": {}
      },
      "cell_type": "code",
      "source": [
        "!gcloud init"
      ],
      "execution_count": 0,
      "outputs": []
    },
    {
      "metadata": {
        "id": "oLb7k6bYwRiO",
        "colab_type": "code",
        "colab": {}
      },
      "cell_type": "code",
      "source": [
        "!pip install cloudmlmagic\n",
        "!pip install sklearn\n",
        "\n",
        "# Load cloudmlmagic extention\n",
        "%load_ext cloudmlmagic"
      ],
      "execution_count": 0,
      "outputs": []
    },
    {
      "metadata": {
        "id": "K4ISAOC-xK_6",
        "colab_type": "code",
        "colab": {}
      },
      "cell_type": "code",
      "source": [
        "!gcloud auth application-default login\n"
      ],
      "execution_count": 0,
      "outputs": []
    },
    {
      "metadata": {
        "id": "TR6-mef23dLN",
        "colab_type": "code",
        "colab": {}
      },
      "cell_type": "code",
      "source": [
        "# Initialize Cloud ML Engine client library\n",
        "# Make sure you call this magic before adding code or run\n",
        "%ml_init -projectId ml-jupyter-236817 -bucket ml-dataspace -scaleTier BASIC -runtimeVersion 1.2"
      ],
      "execution_count": 0,
      "outputs": []
    },
    {
      "metadata": {
        "id": "1XfEVBOw6CeX",
        "colab_type": "code",
        "colab": {}
      },
      "cell_type": "code",
      "source": [
        "%%ml_code\n",
        "# ML Code to be uploaded.\n",
        "# Note that any variables/packages used outside of ml_code block\n",
        "# are not visible when running on cloud ml.\n",
        "import tensorflow as tf\n",
        "from sklearn.model_selection import train_test_split\n",
        "import logging\n",
        "\n",
        "def run_training():\n",
        "    # Load iris dataset\n",
        "    iris = tf.contrib.learn.datasets.base.load_iris()\n",
        "    train_x, test_x, train_y, test_y = train_test_split(\n",
        "        iris.data, iris.target, test_size=0.2\n",
        "    )\n",
        "\n",
        "    \n",
        "    feature_columns = [tf.contrib.layers.real_valued_column(\"\", dimension=4)]\n",
        "    classifier = tf.contrib.learn.DNNClassifier(feature_columns=feature_columns,\n",
        "                                                hidden_units=[10, 20, 10],\n",
        "                                                n_classes=3,\n",
        "                                                model_dir=\"./model\")\n",
        "\n",
        "    classifier.fit(x=train_x,\n",
        "                   y=train_y,\n",
        "                   steps=2000,\n",
        "                   batch_size=50)"
      ],
      "execution_count": 0,
      "outputs": []
    },
    {
      "metadata": {
        "id": "daCCzw2a6Jrv",
        "colab_type": "code",
        "outputId": "1747a71e-4fbc-4f35-8db2-686e3e3ed637",
        "colab": {
          "base_uri": "https://localhost:8080/",
          "height": 94
        }
      },
      "cell_type": "code",
      "source": [
        "%%ml_run cloud\n",
        "# Run a training job.\n",
        "# Code in this block is also uploaded.\n",
        "# To see your cloud ml engine job, go to https://console.cloud.google.com/mlengine/jobs\n",
        "\n",
        "run_training()"
      ],
      "execution_count": 0,
      "outputs": [
        {
          "output_type": "stream",
          "text": [
            "{u'trainingOutput': {}, u'trainingInput': {u'runtimeVersion': u'1.2', u'packageUris': [u'gs://ml-dataspace/mlmagic__1554578876.tar.gz'], u'region': u'us-central1', u'pythonModule': u'trainer.task'}, u'jobId': u'mlmagic__1554578876', u'state': u'QUEUED', u'etag': u'8YEc2j1udTg=', u'createTime': u'2019-04-06T19:28:13Z'}\n"
          ],
          "name": "stdout"
        }
      ]
    }
  ]
}