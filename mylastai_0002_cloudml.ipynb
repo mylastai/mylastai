{
 "nbformat": 4,
 "nbformat_minor": 0,
 "metadata": {
  "colab": {
   "name": "mylastai-0002-cloudml.ipynb",
   "version": "0.3.2",
   "provenance": [],
   "collapsed_sections": [],
   "include_colab_link": true
  },
  "kernelspec": {
   "name": "python3",
   "language": "python",
   "display_name": "Python 3"
  },
  "pycharm": {
   "stem_cell": {
    "cell_type": "raw",
    "source": [],
    "metadata": {
     "collapsed": false
    }
   }
  }
 },
 "cells": [
  {
   "cell_type": "markdown",
   "metadata": {
    "id": "view-in-github",
    "colab_type": "text"
   },
   "source": [
    "<a href=\"https://colab.research.google.com/github/prometheusDE/mylastai/blob/master/mylastai_0002_cloudml.ipynb\" target=\"_parent\"><img src=\"https://colab.research.google.com/assets/colab-badge.svg\" alt=\"Open In Colab\"/></a>"
   ]
  },
  {
   "metadata": {
    "id": "UTDXUlhnIk1x",
    "colab_type": "code",
    "outputId": "edfb04ed-6683-4f99-f431-d15775955848",
    "colab": {
     "base_uri": "https://localhost:8080/",
     "height": 335
    },
    "pycharm": {
     "is_executing": true
    }
   },
   "cell_type": "code",
   "source": [
    "# Optional if gcloud client not installed\n",
    "!curl https://sdk.cloud.google.com | bash\n",
    "!exec -l $SHELL"
   ],
   "execution_count": null,
   "outputs": [
    {
     "name": "stdout",
     "text": [
      "  % Total    % Received % Xferd  Average Speed   Time    Time     Time  Current\r\n                                 Dload  Upload   Total   Spent    Left  Speed\r\n\r  0     0    0     0    0     0      0      0 --:--:-- --:--:-- --:--:--     0",
      "\r100   443  100   443    0     0   2316      0 --:--:-- --:--:-- --:--:--  2319\r\nDownloading Google Cloud SDK install script: https://dl.google.com/dl/cloudsdk/channels/rapid/install_google_cloud_sdk.bash\r\n",
      "\r######################################################################## 100.0%\r\nRunning install script from: /var/folders/76/m_c2ck1d76q_fn2j7t6pbt700000gn/T/tmp.XXXXXXXXXX.UdhWTe2R/install_google_cloud_sdk.bash\r\n",
      "which curl\r\ncurl -# -f https://dl.google.com/dl/cloudsdk/channels/rapid/google-cloud-sdk.tar.gz\r\n",
      "\r#                                                                          2.3%",
      "\r####                                                                       6.0%",
      "\r#######                                                                   10.9%",
      "\r##################                                                        25.3%",
      "\r########################                                                  34.5%",
      "\r################################                                          44.9%",
      "\r#######################################                                   54.5%",
      "\r##############################################                            64.1%",
      "\r#########",
      "#########################################                        70.2%",
      "\r#########################################################                 80.0%",
      "\r################################################################          89.7%",
      "\r######################################################################## 100.0%\r\n\r\nInstallation directory (this will create a google-cloud-sdk subdirectory) (/Users/backhaus): "
     ],
     "output_type": "stream"
    }
   ]
  },
  {
   "cell_type": "code",
   "execution_count": null,
   "outputs": [],
   "source": [
    "!/bin/bash/google-cloud-sdk/bin/gcloud init\n",
    "print('Done')"
   ],
   "metadata": {
    "collapsed": false,
    "pycharm": {
     "name": "#%%\n",
     "is_executing": true
    }
   }
  },
  {
   "metadata": {
    "id": "oLb7k6bYwRiO",
    "colab_type": "code",
    "colab": {},
    "pycharm": {
     "is_executing": true
    }
   },
   "cell_type": "code",
   "source": [
    "!pip install cloudmlmagic\n",
    "!pip install sklearn\n",
    "\n",
    "# Load cloudmlmagic extention\n",
    "%load_ext cloudmlmagic\n",
    "print('Done')"
   ],
   "execution_count": null,
   "outputs": []
  },
  {
   "metadata": {
    "id": "K4ISAOC-xK_6",
    "colab_type": "code",
    "colab": {},
    "pycharm": {
     "is_executing": true
    }
   },
   "cell_type": "code",
   "source": [
    "!/bin/bash/google-cloud-sdk/bin/gcloud auth application-default login\n",
    "print('Done')"
   ],
   "execution_count": null,
   "outputs": []
  },
  {
   "metadata": {
    "id": "TR6-mef23dLN",
    "colab_type": "code",
    "colab": {}
   },
   "cell_type": "code",
   "source": [
    "# Initialize Cloud ML Engine client library\n",
    "# Make sure you call this magic before adding code or run\n",
    "%ml_init -projectId ml-jupyter-236817 -bucket ml-dataspace -scaleTier BASIC -runtimeVersion 1.2"
   ],
   "execution_count": 0,
   "outputs": []
  },
  {
   "metadata": {
    "id": "1XfEVBOw6CeX",
    "colab_type": "code",
    "colab": {}
   },
   "cell_type": "code",
   "source": [
    "%%ml_code\n",
    "\n",
    "# ML Code to be uploaded.\n",
    "# Note that any variables/packages used outside of ml_code block\n",
    "# are not visible when running on cloud ml.\n",
    "import tensorflow as tf\n",
    "from sklearn.model_selection import train_test_split\n",
    "import logging\n",
    "\n",
    "def run_training():\n",
    "    # Load iris dataset\n",
    "    iris = tf.contrib.learn.datasets.base.load_iris()\n",
    "    train_x, test_x, train_y, test_y = train_test_split(\n",
    "        iris.data, iris.target, test_size=0.2\n",
    "    )\n",
    "\n",
    "    \n",
    "    feature_columns = [tf.contrib.layers.real_valued_column(\"\", dimension=4)]\n",
    "    classifier = tf.contrib.learn.DNNClassifier(feature_columns=feature_columns,\n",
    "                                                hidden_units=[10, 20, 10],\n",
    "                                                n_classes=3,\n",
    "                                                model_dir=\"./model\")\n",
    "\n",
    "    classifier.fit(x=train_x,\n",
    "                   y=train_y,\n",
    "                   steps=2000,\n",
    "                   batch_size=50)"
   ],
   "execution_count": 0,
   "outputs": []
  },
  {
   "metadata": {
    "id": "daCCzw2a6Jrv",
    "colab_type": "code",
    "outputId": "1747a71e-4fbc-4f35-8db2-686e3e3ed637",
    "colab": {
     "base_uri": "https://localhost:8080/",
     "height": 94
    }
   },
   "cell_type": "code",
   "source": [
    "%%ml_run cloud\n",
    "# Run a training job.\n",
    "# Code in this block is also uploaded.\n",
    "# To see your cloud ml engine job, go to https://console.cloud.google.com/mlengine/jobs\n",
    "\n",
    "run_training()"
   ],
   "execution_count": 0,
   "outputs": [
    {
     "output_type": "stream",
     "text": [
      "{u'trainingOutput': {}, u'trainingInput': {u'runtimeVersion': u'1.2', u'packageUris': [u'gs://ml-dataspace/mlmagic__1554578876.tar.gz'], u'region': u'us-central1', u'pythonModule': u'trainer.task'}, u'jobId': u'mlmagic__1554578876', u'state': u'QUEUED', u'etag': u'8YEc2j1udTg=', u'createTime': u'2019-04-06T19:28:13Z'}\n"
     ],
     "name": "stdout"
    }
   ]
  }
 ]
}