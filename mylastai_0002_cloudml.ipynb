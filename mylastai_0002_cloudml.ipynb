{
  "nbformat": 4,
  "nbformat_minor": 0,
  "metadata": {
    "colab": {
      "name": "mylastai-0002-cloudml.ipynb",
      "version": "0.3.2",
      "provenance": [],
      "collapsed_sections": [],
      "include_colab_link": true
    },
    "kernelspec": {
      "name": "python2",
      "display_name": "Python 2"
    }
  },
  "cells": [
    {
      "cell_type": "markdown",
      "metadata": {
        "id": "view-in-github",
        "colab_type": "text"
      },
      "source": [
        "<a href=\"https://colab.research.google.com/github/prometheusDE/mylastai/blob/master/mylastai_0002_cloudml.ipynb\" target=\"_parent\"><img src=\"https://colab.research.google.com/assets/colab-badge.svg\" alt=\"Open In Colab\"/></a>"
      ]
    },
    {
      "metadata": {
        "id": "90QECOMO4iag",
        "colab_type": "code",
        "colab": {}
      },
      "cell_type": "code",
      "source": [
        "!gcloud init"
      ],
      "execution_count": 0,
      "outputs": []
    },
    {
      "metadata": {
        "id": "oLb7k6bYwRiO",
        "colab_type": "code",
        "colab": {}
      },
      "cell_type": "code",
      "source": [
        "!pip install cloudmlmagic\n",
        "!pip install sklearn\n",
        "\n",
        "# Load cloudmlmagic extention\n",
        "%load_ext cloudmlmagic"
      ],
      "execution_count": 0,
      "outputs": []
    },
    {
      "metadata": {
        "id": "K4ISAOC-xK_6",
        "colab_type": "code",
        "colab": {}
      },
      "cell_type": "code",
      "source": [
        "!gcloud auth application-default login\n"
      ],
      "execution_count": 0,
      "outputs": []
    },
    {
      "metadata": {
        "id": "TR6-mef23dLN",
        "colab_type": "code",
        "colab": {}
      },
      "cell_type": "code",
      "source": [
        "# Initialize Cloud ML Engine client library\n",
        "# Make sure you call this magic before adding code or run\n",
        "%ml_init -projectId ml-jupyter-236817 -bucket ml-dataspace -scaleTier BASIC -runtimeVersion 1.2"
      ],
      "execution_count": 0,
      "outputs": []
    },
    {
      "metadata": {
        "id": "1XfEVBOw6CeX",
        "colab_type": "code",
        "colab": {}
      },
      "cell_type": "code",
      "source": [
        "%%ml_code\n",
        "# ML Code to be uploaded.\n",
        "# Note that any variables/packages used outside of ml_code block\n",
        "# are not visible when running on cloud ml.\n",
        "import tensorflow as tf\n",
        "from sklearn.model_selection import train_test_split\n",
        "import logging\n",
        "\n",
        "def run_training():\n",
        "    # Load iris dataset\n",
        "    iris = tf.contrib.learn.datasets.base.load_iris()\n",
        "    train_x, test_x, train_y, test_y = train_test_split(\n",
        "        iris.data, iris.target, test_size=0.2\n",
        "    )\n",
        "\n",
        "    \n",
        "    feature_columns = [tf.contrib.layers.real_valued_column(\"\", dimension=4)]\n",
        "    classifier = tf.contrib.learn.DNNClassifier(feature_columns=feature_columns,\n",
        "                                                hidden_units=[10, 20, 10],\n",
        "                                                n_classes=3,\n",
        "                                                model_dir=\"./model\")\n",
        "\n",
        "    classifier.fit(x=train_x,\n",
        "                   y=train_y,\n",
        "                   steps=2000,\n",
        "                   batch_size=50)"
      ],
      "execution_count": 0,
      "outputs": []
    },
    {
      "metadata": {
        "id": "_F-GD6vM6Gux",
        "colab_type": "code",
        "colab": {
          "base_uri": "https://localhost:8080/",
          "height": 34
        },
        "outputId": "c9b83832-2692-4bcf-86d5-906f103618fd"
      },
      "cell_type": "code",
      "source": [
        "%%ml_code\n",
        "# You can devide code blocks like this.\n",
        "\n",
        "a = 42  # <- this variable is visible when executing job on cloud ml\n",
        "print a"
      ],
      "execution_count": 96,
      "outputs": [
        {
          "output_type": "stream",
          "text": [
            "42\n"
          ],
          "name": "stdout"
        }
      ]
    },
    {
      "metadata": {
        "id": "daCCzw2a6Jrv",
        "colab_type": "code",
        "colab": {
          "base_uri": "https://localhost:8080/",
          "height": 94
        },
        "outputId": "1747a71e-4fbc-4f35-8db2-686e3e3ed637"
      },
      "cell_type": "code",
      "source": [
        "%%ml_run cloud\n",
        "# Run a training job.\n",
        "# Code in this block is also uploaded.\n",
        "# To see your cloud ml engine job, go to https://console.cloud.google.com/mlengine/jobs\n",
        "\n",
        "run_training()"
      ],
      "execution_count": 97,
      "outputs": [
        {
          "output_type": "stream",
          "text": [
            "{u'trainingOutput': {}, u'trainingInput': {u'runtimeVersion': u'1.2', u'packageUris': [u'gs://ml-dataspace/mlmagic__1554578876.tar.gz'], u'region': u'us-central1', u'pythonModule': u'trainer.task'}, u'jobId': u'mlmagic__1554578876', u'state': u'QUEUED', u'etag': u'8YEc2j1udTg=', u'createTime': u'2019-04-06T19:28:13Z'}\n"
          ],
          "name": "stdout"
        }
      ]
    }
  ]
}