{
  "nbformat": 4,
  "nbformat_minor": 0,
  "metadata": {
    "colab": {
      "name": "mylastai-0002-cloudml.ipynb",
      "version": "0.3.2",
      "provenance": [],
      "collapsed_sections": [],
      "include_colab_link": true
    },
    "kernelspec": {
      "name": "python2",
      "display_name": "Python 2"
    }
  },
  "cells": [
    {
      "cell_type": "markdown",
      "metadata": {
        "id": "view-in-github",
        "colab_type": "text"
      },
      "source": [
        "<a href=\"https://colab.research.google.com/github/prometheusDE/mylastai/blob/master/mylastai_0002_cloudml.ipynb\" target=\"_parent\"><img src=\"https://colab.research.google.com/assets/colab-badge.svg\" alt=\"Open In Colab\"/></a>"
      ]
    },
    {
      "metadata": {
        "id": "90QECOMO4iag",
        "colab_type": "code",
        "colab": {}
      },
      "cell_type": "code",
      "source": [
        "!gcloud init"
      ],
      "execution_count": 0,
      "outputs": []
    },
    {
      "metadata": {
        "id": "oLb7k6bYwRiO",
        "colab_type": "code",
        "colab": {
          "base_uri": "https://localhost:8080/",
          "height": 378
        },
        "outputId": "f4a37f83-f31d-46c1-9e15-2db30793b5f2"
      },
      "cell_type": "code",
      "source": [
        "!pip install cloudmlmagic\n",
        "!pip install sklearn\n",
        "\n",
        "# Load cloudmlmagic extention\n",
        "%load_ext cloudmlmagic"
      ],
      "execution_count": 2,
      "outputs": [
        {
          "output_type": "stream",
          "text": [
            "Collecting cloudmlmagic\n",
            "  Downloading https://files.pythonhosted.org/packages/cf/77/9a2cf70dce58e0f1156b76ff4e89f2b490f248bc6f9a78e2c470d101426b/cloudmlmagic-0.0.5-py2-none-any.whl\n",
            "Requirement already satisfied: google-api-python-client in /usr/local/lib/python2.7/dist-packages (from cloudmlmagic) (1.6.7)\n",
            "Requirement already satisfied: six<2dev,>=1.6.1 in /usr/local/lib/python2.7/dist-packages (from google-api-python-client->cloudmlmagic) (1.11.0)\n",
            "Requirement already satisfied: httplib2<1dev,>=0.9.2 in /usr/local/lib/python2.7/dist-packages (from google-api-python-client->cloudmlmagic) (0.11.3)\n",
            "Requirement already satisfied: oauth2client<5.0.0dev,>=1.5.0 in /usr/local/lib/python2.7/dist-packages (from google-api-python-client->cloudmlmagic) (4.1.3)\n",
            "Requirement already satisfied: uritemplate<4dev,>=3.0.0 in /usr/local/lib/python2.7/dist-packages (from google-api-python-client->cloudmlmagic) (3.0.0)\n",
            "Requirement already satisfied: rsa>=3.1.4 in /usr/local/lib/python2.7/dist-packages (from oauth2client<5.0.0dev,>=1.5.0->google-api-python-client->cloudmlmagic) (4.0)\n",
            "Requirement already satisfied: pyasn1>=0.1.7 in /usr/local/lib/python2.7/dist-packages (from oauth2client<5.0.0dev,>=1.5.0->google-api-python-client->cloudmlmagic) (0.4.5)\n",
            "Requirement already satisfied: pyasn1-modules>=0.0.5 in /usr/local/lib/python2.7/dist-packages (from oauth2client<5.0.0dev,>=1.5.0->google-api-python-client->cloudmlmagic) (0.2.4)\n",
            "Installing collected packages: cloudmlmagic\n",
            "Successfully installed cloudmlmagic-0.0.5\n",
            "Requirement already satisfied: sklearn in /usr/local/lib/python2.7/dist-packages (0.0)\n",
            "Requirement already satisfied: scikit-learn in /usr/local/lib/python2.7/dist-packages (from sklearn) (0.20.3)\n",
            "Requirement already satisfied: scipy>=0.13.3 in /usr/local/lib/python2.7/dist-packages (from scikit-learn->sklearn) (1.1.0)\n",
            "Requirement already satisfied: numpy>=1.8.2 in /usr/local/lib/python2.7/dist-packages (from scikit-learn->sklearn) (1.14.6)\n"
          ],
          "name": "stdout"
        }
      ]
    },
    {
      "metadata": {
        "id": "K4ISAOC-xK_6",
        "colab_type": "code",
        "colab": {
          "base_uri": "https://localhost:8080/",
          "height": 344
        },
        "outputId": "83a785dc-255b-4336-d137-10f1dc75a321"
      },
      "cell_type": "code",
      "source": [
        "!gcloud auth application-default login\n"
      ],
      "execution_count": 3,
      "outputs": [
        {
          "output_type": "stream",
          "text": [
            "Go to the following link in your browser:\n",
            "\n",
            "    https://accounts.google.com/o/oauth2/auth?redirect_uri=urn%3Aietf%3Awg%3Aoauth%3A2.0%3Aoob&prompt=select_account&response_type=code&client_id=764086051850-6qr4p6gpi6hn506pt8ejuq83di341hur.apps.googleusercontent.com&scope=https%3A%2F%2Fwww.googleapis.com%2Fauth%2Fuserinfo.email+https%3A%2F%2Fwww.googleapis.com%2Fauth%2Fcloud-platform&access_type=offline\n",
            "\n",
            "\n",
            "Enter verification code: 4/JAGTo0UiORk8NmETotjj7N8ed-VsGyaq0v81oHwzDmmyu0holvaGwFA\n",
            "\n",
            "Credentials saved to file: [/content/.config/application_default_credentials.json]\n",
            "\n",
            "These credentials will be used by any library that requests\n",
            "Application Default Credentials.\n",
            "\n",
            "To generate an access token for other uses, run:\n",
            "  gcloud auth application-default print-access-token\n"
          ],
          "name": "stdout"
        }
      ]
    },
    {
      "metadata": {
        "id": "TR6-mef23dLN",
        "colab_type": "code",
        "colab": {}
      },
      "cell_type": "code",
      "source": [
        "# Initialize Cloud ML Engine client library\n",
        "# Make sure you call this magic before adding code or run\n",
        "%ml_init -projectId ml-jupyter-236817 -bucket ml-dataspace -scaleTier BASIC -runtimeVersion 1.2"
      ],
      "execution_count": 0,
      "outputs": []
    },
    {
      "metadata": {
        "id": "1XfEVBOw6CeX",
        "colab_type": "code",
        "colab": {}
      },
      "cell_type": "code",
      "source": [
        "%%ml_code\n",
        "# ML Code to be uploaded.\n",
        "# Note that any variables/packages used outside of ml_code block\n",
        "# are not visible when running on cloud ml.\n",
        "import tensorflow as tf\n",
        "from sklearn.model_selection import train_test_split\n",
        "import logging\n",
        "\n",
        "def run_training():\n",
        "    # Load iris dataset\n",
        "    iris = tf.contrib.learn.datasets.base.load_iris()\n",
        "    train_x, test_x, train_y, test_y = train_test_split(\n",
        "        iris.data, iris.target, test_size=0.2\n",
        "    )\n",
        "\n",
        "    \n",
        "    feature_columns = [tf.contrib.layers.real_valued_column(\"\", dimension=4)]\n",
        "    classifier = tf.contrib.learn.DNNClassifier(feature_columns=feature_columns,\n",
        "                                                hidden_units=[10, 20, 10],\n",
        "                                                n_classes=3,\n",
        "                                                model_dir=\"./model\")\n",
        "\n",
        "    classifier.fit(x=train_x,\n",
        "                   y=train_y,\n",
        "                   steps=2000,\n",
        "                   batch_size=50)"
      ],
      "execution_count": 0,
      "outputs": []
    },
    {
      "metadata": {
        "id": "_F-GD6vM6Gux",
        "colab_type": "code",
        "outputId": "d9537803-8088-49a9-96bf-0e1627458e8a",
        "colab": {
          "base_uri": "https://localhost:8080/",
          "height": 34
        }
      },
      "cell_type": "code",
      "source": [
        "%%ml_code\n",
        "# You can devide code blocks like this.\n",
        "\n",
        "a = 42  # <- this variable is visible when executing job on cloud ml\n",
        "print a"
      ],
      "execution_count": 6,
      "outputs": [
        {
          "output_type": "stream",
          "text": [
            "42\n"
          ],
          "name": "stdout"
        }
      ]
    },
    {
      "metadata": {
        "id": "daCCzw2a6Jrv",
        "colab_type": "code",
        "outputId": "e83934f7-826d-4a5b-e20e-380d6f68086e",
        "colab": {
          "base_uri": "https://localhost:8080/",
          "height": 94
        }
      },
      "cell_type": "code",
      "source": [
        "%%ml_run cloud\n",
        "# Run a training job.\n",
        "# Code in this block is also uploaded.\n",
        "# To see your cloud ml engine job, go to https://console.cloud.google.com/mlengine/jobs\n",
        "\n",
        "run_training()"
      ],
      "execution_count": 7,
      "outputs": [
        {
          "output_type": "stream",
          "text": [
            "{u'trainingOutput': {}, u'trainingInput': {u'runtimeVersion': u'1.2', u'packageUris': [u'gs://ml-dataspace/mlmagic__1554579668.tar.gz'], u'region': u'us-central1', u'pythonModule': u'trainer.task'}, u'jobId': u'mlmagic__1554579668', u'state': u'QUEUED', u'etag': u'tECMoFJMN28=', u'createTime': u'2019-04-06T19:41:22Z'}\n"
          ],
          "name": "stdout"
        }
      ]
    }
  ]
}